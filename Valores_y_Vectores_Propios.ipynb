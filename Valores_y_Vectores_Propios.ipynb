{
  "nbformat": 4,
  "nbformat_minor": 0,
  "metadata": {
    "colab": {
      "provenance": [],
      "authorship_tag": "ABX9TyOrH/UCpCGHb6mmtESSinbv",
      "include_colab_link": true
    },
    "kernelspec": {
      "name": "python3",
      "display_name": "Python 3"
    },
    "language_info": {
      "name": "python"
    }
  },
  "cells": [
    {
      "cell_type": "markdown",
      "metadata": {
        "id": "view-in-github",
        "colab_type": "text"
      },
      "source": [
        "<a href=\"https://colab.research.google.com/github/Pierre0429/Cuaderno-Algebra/blob/main/Valores_y_Vectores_Propios.ipynb\" target=\"_parent\"><img src=\"https://colab.research.google.com/assets/colab-badge.svg\" alt=\"Open In Colab\"/></a>"
      ]
    },
    {
      "cell_type": "markdown",
      "source": [
        "# Teoria\n",
        "Los valores y vectores propios, también conocidos como autovalores y autovectores, son conceptos importantes en el ámbito de las matrices y las transformaciones lineales.\n",
        "\n",
        "Dada una matriz cuadrada **A**, un vector propio (o autovector) v es un vector no nulo tal que cuando se aplica la matriz **A** a **v**, el resultado es simplemente una versión escalada del vector original. En otras palabras, se cumple la siguiente ecuación:\n",
        "\n",
        "                                                     Av = λv\n",
        "\n",
        "Donde **λ** es un escalar llamado valor propio (o Lambda). El valor propio **λ** indica cuánto se escala el vector v cuando se aplica la matriz A.\n"
      ],
      "metadata": {
        "id": "IPPSeIUFh8U3"
      }
    },
    {
      "cell_type": "code",
      "source": [
        "import numpy as np\n",
        "\n",
        "# Definir una matriz cuadrada\n",
        "A = np.array([[1, 2], [3, 4]])\n",
        "\n",
        "# Calcular los valores y vectores propios\n",
        "autovalores, autovectores = np.linalg.eig(A)\n",
        "\n",
        "# Imprimir los valores propios\n",
        "print(\"Valores propios:\")\n",
        "for autovalor in autovalores:\n",
        "    print(autovalor)\n",
        "\n",
        "# Imprimir los autovectores\n",
        "print(\"Autovectores:\")\n",
        "for autovector in autovectores.T:  # Transponer los autovectores para imprimir cada uno por separado\n",
        "    print(autovector)\n"
      ],
      "metadata": {
        "id": "o3FKGuvdGJhv"
      },
      "execution_count": null,
      "outputs": []
    }
  ]
}