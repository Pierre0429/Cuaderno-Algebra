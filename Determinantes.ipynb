{
  "nbformat": 4,
  "nbformat_minor": 0,
  "metadata": {
    "colab": {
      "provenance": [],
      "authorship_tag": "ABX9TyPzTX+YSgvz5DCL1UgHGR+x",
      "include_colab_link": true
    },
    "kernelspec": {
      "name": "python3",
      "display_name": "Python 3"
    },
    "language_info": {
      "name": "python"
    }
  },
  "cells": [
    {
      "cell_type": "markdown",
      "metadata": {
        "id": "view-in-github",
        "colab_type": "text"
      },
      "source": [
        "<a href=\"https://colab.research.google.com/github/Pierre0429/Cuaderno-Algebra/blob/main/Determinantes.ipynb\" target=\"_parent\"><img src=\"https://colab.research.google.com/assets/colab-badge.svg\" alt=\"Open In Colab\"/></a>"
      ]
    },
    {
      "cell_type": "markdown",
      "source": [
        "# Teoria\n",
        "El determinante es una operación matemática que se aplica solo a matrices cuadradas **(nn)**. Sin embargo, se puede definir una extensión a matrices rectangulares **(mn)** llamada \"determinante generalizado\" o \"determinante de orden **m x n**.\n",
        "\n",
        "El determinante generalizado solo se puede calcular si el número de columnas es igual o mayor que el número de filas **(n >= m)**.\n",
        "\n",
        "La fórmula para calcular el determinante generalizado es una generalización de la fórmula del determinante para matrices cuadradas. Dado una matriz **m x n**, el determinante generalizado se calcula de la siguiente manera:\n",
        "\n",
        "***det(A) = a11 * C11 + a12 * C12 + ... + a1n * C1n,***\n",
        "\n",
        "donde aij es el elemento en la posición **(i, j)** de la matriz y **Cij** es el cofactor del elemento aij.\n",
        "\n",
        "El cofactor **Cij** se calcula como:\n",
        "\n",
        "***Cij = (-1)^(i+j) * det(Mij)***\n",
        "\n",
        "donde **Mij** es la submatriz obtenida al eliminar la i-ésima fila y la j-ésima columna de la matriz original.\n",
        "\n",
        "El caso especial es cuando la matriz es cuadrada **(n = m)**. En ese caso, el determinante se calcula de manera similar, pero sin la necesidad de utilizar determinantes generalizados."
      ],
      "metadata": {
        "id": "IPPSeIUFh8U3"
      }
    },
    {
      "cell_type": "code",
      "execution_count": null,
      "metadata": {
        "id": "qsF_RGKOZ9GJ"
      },
      "outputs": [],
      "source": [
        "import numpy as np\n",
        "\n",
        "def calcular_determinante(matriz):\n",
        "    det = np.linalg.det(matriz)\n",
        "    return det\n",
        "\n",
        "# Ejemplo de uso\n",
        "matriz_ejemplo = np.array([[1, 2, 3],\n",
        "                           [4, 5, 6],\n",
        "                           [7, 8, 9]])\n",
        "\n",
        "determinante = calcular_determinante(matriz_ejemplo)\n",
        "print(\"El determinante de la matriz es:\", determinante)\n"
      ]
    }
  ]
}