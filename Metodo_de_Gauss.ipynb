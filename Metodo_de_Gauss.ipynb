{
  "nbformat": 4,
  "nbformat_minor": 0,
  "metadata": {
    "colab": {
      "provenance": [],
      "authorship_tag": "ABX9TyMAawZZvVC5zNEIZM4ztrR/",
      "include_colab_link": true
    },
    "kernelspec": {
      "name": "python3",
      "display_name": "Python 3"
    },
    "language_info": {
      "name": "python"
    }
  },
  "cells": [
    {
      "cell_type": "markdown",
      "metadata": {
        "id": "view-in-github",
        "colab_type": "text"
      },
      "source": [
        "<a href=\"https://colab.research.google.com/github/Pierre0429/Cuaderno-Algebra/blob/main/Metodo_de_Gauss.ipynb\" target=\"_parent\"><img src=\"https://colab.research.google.com/assets/colab-badge.svg\" alt=\"Open In Colab\"/></a>"
      ]
    },
    {
      "cell_type": "markdown",
      "source": [
        "# Teoria\n",
        "El método de eliminación de Gauss, también conocido como eliminación gaussiana, es un algoritmo utilizado para resolver sistemas de ecuaciones lineales y calcular la matriz inversa de una matriz cuadrada.\n",
        "\n",
        "El método de Gauss consiste en aplicar una serie de operaciones elementales a las filas de una matriz con el objetivo de convertirla en una matriz triangular superior. Una vez que se obtiene la matriz triangular superior, se pueden resolver los sistemas de ecuaciones o calcular la matriz inversa de manera más sencilla."
      ],
      "metadata": {
        "id": "IPPSeIUFh8U3"
      }
    },
    {
      "cell_type": "code",
      "source": [
        "import numpy as np\n",
        "\n",
        "def eliminacion_gaussiana(A, b):\n",
        "    n = len(b)\n",
        "    \n",
        "    # Eliminación hacia adelante\n",
        "    for i in range(n-1):\n",
        "        for j in range(i+1, n):\n",
        "            factor = A[j, i] / A[i, i]\n",
        "            A[j, i:] -= factor * A[i, i:]\n",
        "            b[j] -= factor * b[i]\n",
        "    \n",
        "    # Sustitución hacia atrás\n",
        "    x = np.zeros(n)\n",
        "    for i in range(n-1, -1, -1):\n",
        "        x[i] = (b[i] - np.dot(A[i, i+1:], x[i+1:])) / A[i, i]\n",
        "    \n",
        "    return x\n",
        "\n",
        "# Ejemplo de uso\n",
        "A = np.array([[2, -1, 3],\n",
        "              [4, 2, -1],\n",
        "              [-2, 3, 1]])\n",
        "\n",
        "b = np.array([9, 1, -4])\n",
        "\n",
        "solucion = eliminacion_gaussiana(A, b)\n",
        "\n",
        "print(\"La solución del sistema de ecuaciones es:\")\n",
        "print(solucion)\n"
      ],
      "metadata": {
        "id": "nrh-Uoz5u8Mx"
      },
      "execution_count": null,
      "outputs": []
    }
  ]
}