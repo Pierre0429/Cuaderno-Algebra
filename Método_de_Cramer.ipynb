{
  "nbformat": 4,
  "nbformat_minor": 0,
  "metadata": {
    "colab": {
      "provenance": [],
      "authorship_tag": "ABX9TyMUf3bcSvDgCnKNfhWx/IKw",
      "include_colab_link": true
    },
    "kernelspec": {
      "name": "python3",
      "display_name": "Python 3"
    },
    "language_info": {
      "name": "python"
    }
  },
  "cells": [
    {
      "cell_type": "markdown",
      "metadata": {
        "id": "view-in-github",
        "colab_type": "text"
      },
      "source": [
        "<a href=\"https://colab.research.google.com/github/Pierre0429/Cuaderno-Algebra/blob/main/M%C3%A9todo_de_Cramer.ipynb\" target=\"_parent\"><img src=\"https://colab.research.google.com/assets/colab-badge.svg\" alt=\"Open In Colab\"/></a>"
      ]
    },
    {
      "cell_type": "markdown",
      "source": [
        "# Teoria\n",
        "El método de Cramer es un método utilizado para resolver sistemas de ecuaciones lineales utilizando determinantes y regla de Cramer. Este método es aplicable cuando el número de ecuaciones es igual al número de incógnitas y la matriz de coeficientes es no singular, lo que significa que su determinante no es igual a cero.\n",
        "\n",
        "Este metodo se basa en la siguiente idea: si tenemos un sistema de ecuaciones lineales **Ax = b**, donde **A** es la matriz de coeficientes, **x** es el vector de incógnitas y **b** es el vector de términos constantes, podemos resolver para cada incógnita **x_i** encontrando el determinante de la matriz modificada donde la columna **i** se reemplaza por el vector **b**, y luego dividir este determinante por el determinante de la matriz de coeficientes original.\n",
        "\n",
        "**Pasos para aplicar el método de Cramer:**\n",
        "\n",
        "1. Verificar que la matriz de coeficientes **A** sea no singular. Si el determinante de **A** es cero, el método de Cramer no se puede aplicar.\n",
        "\n",
        "2. Calcular el determinante de la matriz de coeficientes **A**.\n",
        "\n",
        "3. Para cada incógnita **x_i**, se crea una matriz modificada **B_i** reemplazando la columna **i** de **A** por el vector de términos constantes **b**.\n",
        "\n",
        "4. Calcular el determinante de cada matriz modificada **B_i.**\n",
        "\n",
        "5. La solución para la incógnita **x_i** se obtiene dividiendo el determinante de **B_i** por el determinante de **A: x_i = det(B_i) / det(A).**\n",
        "\n",
        "Repetir el paso 5 para todas las incógnitas del sistema.\n",
        "\n",
        "\n",
        "\n",
        "\n",
        "\n"
      ],
      "metadata": {
        "id": "IPPSeIUFh8U3"
      }
    },
    {
      "cell_type": "code",
      "source": [
        "import numpy as np\n",
        "\n",
        "def cramer(A, b):\n",
        "    n = A.shape[0]  # Número de incógnitas\n",
        "\n",
        "    det_A = np.linalg.det(A)  # Determinante de A\n",
        "\n",
        "    if det_A == 0:\n",
        "        raise ValueError(\"La matriz de coeficientes es singular. No se puede aplicar el método de Cramer.\")\n",
        "\n",
        "    x = np.zeros(n)  # Vector de soluciones\n",
        "\n",
        "    for i in range(n):\n",
        "        B_i = A.copy()\n",
        "        B_i[:, i] = b\n",
        "        det_B_i = np.linalg.det(B_i)\n",
        "        x[i] = det_B_i / det_A\n",
        "\n",
        "    return x\n",
        "\n",
        "# Ejemplo de uso\n",
        "A = np.array([[2, -1, 3],\n",
        "              [1, 1, -1],\n",
        "              [3, 2, 1]])\n",
        "\n",
        "b = np.array([4, 3, 9])\n",
        "\n",
        "solucion = cramer(A, b)\n",
        "print(\"La solución del sistema es:\", solucion)\n",
        "\n",
        "\n"
      ],
      "metadata": {
        "id": "nrh-Uoz5u8Mx"
      },
      "execution_count": null,
      "outputs": []
    }
  ]
}