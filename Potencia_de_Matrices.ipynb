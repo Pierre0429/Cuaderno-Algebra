{
  "nbformat": 4,
  "nbformat_minor": 0,
  "metadata": {
    "colab": {
      "provenance": [],
      "authorship_tag": "ABX9TyOww1pleHjFkpA8zPLtjP7q",
      "include_colab_link": true
    },
    "kernelspec": {
      "name": "python3",
      "display_name": "Python 3"
    },
    "language_info": {
      "name": "python"
    }
  },
  "cells": [
    {
      "cell_type": "markdown",
      "metadata": {
        "id": "view-in-github",
        "colab_type": "text"
      },
      "source": [
        "<a href=\"https://colab.research.google.com/github/Pierre0429/Cuaderno-Algebra/blob/main/Potencia_de_Matrices.ipynb\" target=\"_parent\"><img src=\"https://colab.research.google.com/assets/colab-badge.svg\" alt=\"Open In Colab\"/></a>"
      ]
    },
    {
      "cell_type": "markdown",
      "source": [
        "# Teoria\n",
        "La potencia de una matriz es una operación que implica multiplicar una matriz por sí misma un número determinado de veces. La potencia n-ésima de una matriz A se denota como **A^n**.\n",
        "\n",
        "La potencia de una matriz se define de la siguiente manera:\n",
        "\n",
        "+ **A^0:** La potencia cero de una matriz es la matriz identidad del mismo tamaño que **A**.\n",
        "\n",
        "+ **A^n (n > 0):** Para n mayor que cero, la potencia n-ésima de una matriz **A** se obtiene multiplicando la matriz **A** por sí misma **n** veces consecutivas.\n",
        "\n",
        "En resumen, si **A** es una matriz cuadrada de tamaño **nxn**, la potencia n-ésima de **A** se calcula multiplicando **A** por sí misma **n** veces.\n",
        "\n",
        "\n",
        "\n",
        "\n",
        "\n"
      ],
      "metadata": {
        "id": "IPPSeIUFh8U3"
      }
    },
    {
      "cell_type": "code",
      "source": [
        "import numpy as np\n",
        "\n",
        "def potencia_matriz(matriz, exponente):\n",
        "    return np.linalg.matrix_power(matriz, exponente)\n",
        "\n",
        "# Ejemplo de uso\n",
        "matriz_ejemplo = np.array([[1, 2],\n",
        "                           [3, 4]])  # Matriz de ejemplo\n",
        "\n",
        "exponente_ejemplo = 3  # Exponente de la potencia\n",
        "\n",
        "matriz_potencia = potencia_matriz(matriz_ejemplo, exponente_ejemplo)\n",
        "print(\"La matriz elevada a la potencia\", exponente_ejemplo, \"es:\")\n",
        "print(matriz_potencia)\n",
        "\n"
      ],
      "metadata": {
        "id": "nrh-Uoz5u8Mx"
      },
      "execution_count": null,
      "outputs": []
    }
  ]
}