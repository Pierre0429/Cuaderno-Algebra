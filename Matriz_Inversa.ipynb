{
  "nbformat": 4,
  "nbformat_minor": 0,
  "metadata": {
    "colab": {
      "provenance": [],
      "authorship_tag": "ABX9TyMVXSJLAhtCh3xINmBRUQiV",
      "include_colab_link": true
    },
    "kernelspec": {
      "name": "python3",
      "display_name": "Python 3"
    },
    "language_info": {
      "name": "python"
    }
  },
  "cells": [
    {
      "cell_type": "markdown",
      "metadata": {
        "id": "view-in-github",
        "colab_type": "text"
      },
      "source": [
        "<a href=\"https://colab.research.google.com/github/Pierre0429/Cuaderno-Algebra/blob/main/Matriz_Inversa.ipynb\" target=\"_parent\"><img src=\"https://colab.research.google.com/assets/colab-badge.svg\" alt=\"Open In Colab\"/></a>"
      ]
    },
    {
      "cell_type": "markdown",
      "source": [
        "# Teoria\n",
        "La matriz inversa es una operación en álgebra lineal que se aplica solo a matrices cuadradas. Dada una matriz cuadrada A, su matriz inversa, denotada como **A^(-1)**, es una matriz tal que cuando se multiplica por la matriz original, el resultado es la matriz identidad.\n",
        "\n",
        "En términos más formales, si A es una matriz cuadrada de tamaño **n*n** y **A^(-1)** es su matriz inversa, entonces se cumple la siguiente propiedad:\n",
        "\n",
        "**A * A^(-1) = A^(-1) * A = I,**\n",
        "\n",
        "donde I es la matriz identidad de tamaño **n*n**.\n",
        "\n",
        "La matriz inversa tiene varias propiedades importantes:\n",
        "\n",
        "No todas las matrices tienen una matriz inversa. Una matriz A tiene una matriz inversa solo si su determinante **(det(A))** no es cero. Si **det(A) = 0**, la matriz se considera singular y no tiene una matriz inversa.\n",
        "\n",
        "La matriz inversa es única para una matriz no singular.\n",
        "\n",
        "Si A tiene una matriz inversa, la inversa de la matriz inversa es la matriz original: **(A^(-1))^(-1) = A.**\n",
        "\n",
        "La matriz inversa de una matriz producto es igual al producto de las matrices inversas en el orden inverso: **(AB)^(-1) = B^(-1) * A^(-1).**"
      ],
      "metadata": {
        "id": "IPPSeIUFh8U3"
      }
    },
    {
      "cell_type": "code",
      "source": [
        "import numpy as np\n",
        "\n",
        "def calcular_inversa(matriz):\n",
        "    inversa = np.linalg.inv(matriz)\n",
        "    return inversa\n",
        "\n",
        "# Ejemplo de uso\n",
        "matriz_ejemplo = np.array([[1, 2],\n",
        "                           [3, 4]])\n",
        "\n",
        "matriz_inversa = calcular_inversa(matriz_ejemplo)\n",
        "\n",
        "print(\"La matriz inversa es:\")\n",
        "print(matriz_inversa)\n"
      ],
      "metadata": {
        "id": "nrh-Uoz5u8Mx"
      },
      "execution_count": null,
      "outputs": []
    }
  ]
}