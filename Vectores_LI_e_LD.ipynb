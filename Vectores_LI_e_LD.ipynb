{
  "nbformat": 4,
  "nbformat_minor": 0,
  "metadata": {
    "colab": {
      "provenance": [],
      "authorship_tag": "ABX9TyOSAGsv+i3T9F4rf6OVbCSt",
      "include_colab_link": true
    },
    "kernelspec": {
      "name": "python3",
      "display_name": "Python 3"
    },
    "language_info": {
      "name": "python"
    }
  },
  "cells": [
    {
      "cell_type": "markdown",
      "metadata": {
        "id": "view-in-github",
        "colab_type": "text"
      },
      "source": [
        "<a href=\"https://colab.research.google.com/github/Pierre0429/Cuaderno-Algebra/blob/main/Vectores_LI_e_LD.ipynb\" target=\"_parent\"><img src=\"https://colab.research.google.com/assets/colab-badge.svg\" alt=\"Open In Colab\"/></a>"
      ]
    },
    {
      "cell_type": "markdown",
      "source": [
        "# Teoria\n",
        "En álgebra lineal, un conjunto de vectores se considera linealmente independiente si ninguno de los vectores puede expresarse como una combinación lineal de los demás. Por otro lado, un conjunto de vectores se considera linealmente dependiente si al menos uno de los vectores puede expresarse como una combinación lineal de los demás vectores.\n",
        "\n",
        "Más formalmente, dado un conjunto de vectores **{v1, v2, ..., vn}**, se dice que son linealmente independientes si la única solución para la ecuación:\n",
        "\n",
        "**a1v1 + a2v2 + ... + an x vn = 0**\n",
        "\n",
        "**es a1 = a2 = ... = an = 0, donde a1, a2, ..., an son escalares.**\n",
        "\n",
        "En cambio, si existe una solución no trivial (al menos uno de los escalares no es cero) para la ecuación anterior, entonces los vectores son linealmente dependientes.\n",
        "\n",
        "En términos intuitivos, si los vectores de un conjunto son linealmente independientes, ninguno de ellos puede expresarse como una combinación lineal de los demás, lo que significa que todos los vectores aportan información única. Por otro lado, si los vectores son linealmente dependientes, al menos uno de ellos puede expresarse como una combinación lineal de los demás, lo que implica que hay redundancia en el conjunto de vectores.\n",
        "\n",
        "Determinar si un conjunto de vectores es linealmente independiente o dependiente es un problema común en álgebra lineal y tiene varias aplicaciones en el estudio de sistemas lineales, transformaciones lineales y espacios vectoriales."
      ],
      "metadata": {
        "id": "IPPSeIUFh8U3"
      }
    },
    {
      "cell_type": "code",
      "source": [
        "import numpy as np\n",
        "\n",
        "def linealmente_independientes(vectores):\n",
        "    matriz = np.array(vectores)\n",
        "    rango = np.linalg.matrix_rank(matriz)\n",
        "    if rango == len(vectores):\n",
        "        return True\n",
        "    else:\n",
        "        return False\n",
        "\n",
        "# Ejemplo de uso\n",
        "conjunto_vectores = [[1, 2, 3],\n",
        "                     [4, 5, 6],\n",
        "                     [7, 8, 9]]\n",
        "\n",
        "son_independientes = linealmente_independientes(conjunto_vectores)\n",
        "\n",
        "if son_independientes:\n",
        "    print(\"Los vectores son linealmente independientes.\")\n",
        "else:\n",
        "    print(\"Los vectores son linealmente dependientes.\")\n"
      ],
      "metadata": {
        "id": "CIAtvWaxnZPT"
      },
      "execution_count": null,
      "outputs": []
    }
  ]
}