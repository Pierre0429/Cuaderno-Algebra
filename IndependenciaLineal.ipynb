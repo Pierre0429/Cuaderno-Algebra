{
  "cells": [
    {
      "cell_type": "markdown",
      "metadata": {
        "id": "view-in-github",
        "colab_type": "text"
      },
      "source": [
        "<a href=\"https://colab.research.google.com/github/Pierre0429/Cuaderno-Algebra/blob/main/IndependenciaLineal.ipynb\" target=\"_parent\"><img src=\"https://colab.research.google.com/assets/colab-badge.svg\" alt=\"Open In Colab\"/></a>"
      ]
    },
    {
      "cell_type": "markdown",
      "id": "84a04f1a-cbf7-4e42-9e15-19f303d44654",
      "metadata": {
        "id": "84a04f1a-cbf7-4e42-9e15-19f303d44654"
      },
      "source": [
        "# Independencia Lineal "
      ]
    },
    {
      "cell_type": "markdown",
      "id": "fec2a5d8-3b2b-48be-9181-dd8a70aff7ca",
      "metadata": {
        "id": "fec2a5d8-3b2b-48be-9181-dd8a70aff7ca"
      },
      "source": [
        "## Definición\n",
        "Sea $S = \\{\\textbf{v}_1, \\textbf{v}_2, ...., \\textbf{v}_n \\}$ un conjunto no vacío de vectores. \n",
        "\n",
        "a) Suponga que:\n",
        "\n",
        "$ \\alpha_1 \\textbf{v}_1 + \\alpha_2 \\textbf{v}_2+......+\\alpha_2 \\textbf{v}_n  = \\textbf{0}$ \n",
        "\n",
        "implica que $ \\alpha_1 = \\alpha_2 = ....=\\alpha_n$. Se dice entonces que $\\textbf{S}$ es ***linealmente independiente***\n",
        "\n",
        "b) Un conjunto que no es linealmente independiente se llama ***linealmente dependiente***; análogamente,  $\\textbf{S}$ es linealmente dependiente si y solo si hay escalares $ \\alpha_1 = \\alpha_2 = ....=\\alpha_n$ **NO** todos cero, tales que\n",
        "\n",
        "$ \\alpha_1 \\textbf{v}_1 + \\alpha_2 \\textbf{v}_2+......+\\alpha_2 \\textbf{v}_n  = \\textbf{0}$ "
      ]
    },
    {
      "cell_type": "markdown",
      "id": "55aa3498-cf44-4f50-84fe-4fa3c2167083",
      "metadata": {
        "id": "55aa3498-cf44-4f50-84fe-4fa3c2167083"
      },
      "source": [
        "## Python Code\n",
        "```python \n",
        "#Importamos la libreria numpy\n",
        "import numpy as np\n",
        "\n",
        "# Los vectores linealmente independientes (En este ejemplo, tenemos 3 vectores en un espacio 3-dimensional)\n",
        "v1 = np.array([1, 2, 2])\n",
        "v2 = np.array([4, 5, 6])\n",
        "v3 = np.array([7, 8, 9])\n",
        "\n",
        "# El vector que queremos expresar como una combinación lineal de vectores independientes ((0,0,0))\n",
        "target = np.array([0, 0, 0])\n",
        "\n",
        "#Creamos una matriz con los vectores independientes como columnas\n",
        "matrix = np.column_stack((v1, v2, v3))\n",
        "\n",
        "#Resolvemos el sistema lineal para encontrar los coeficientes\n",
        "coefficients = np.linalg.solve(matrix, target)\n",
        "\n",
        "print(\"Coefficients:\", coefficients)\n",
        "```\n"
      ]
    },
    {
      "cell_type": "code",
      "execution_count": null,
      "id": "26a2ae85-9ec6-4f8e-9c12-9048b2b10a4d",
      "metadata": {
        "id": "26a2ae85-9ec6-4f8e-9c12-9048b2b10a4d",
        "outputId": "cc46b342-fed7-4478-c1f1-beec9b165ff2"
      },
      "outputs": [
        {
          "name": "stdout",
          "output_type": "stream",
          "text": [
            "Coefficients: [ 0.  0. -0.]\n"
          ]
        }
      ],
      "source": [
        "#Importamos la libreria numpy\n",
        "import numpy as np\n",
        "\n",
        "# Los vectores linealmente independientes (En este ejemplo, tenemos 3 vectores en un espacio 3-dimensional)\n",
        "v1 = np.array([1, 2, 2])\n",
        "v2 = np.array([4, 5, 6])\n",
        "v3 = np.array([7, 8, 9])\n",
        "\n",
        "# El vector que queremos expresar como una combinación lineal de vectores independientes ((0,0,0))\n",
        "target = np.array([0, 0, 0])\n",
        "\n",
        "#Creamos una matriz con los vectores independientes como columnas\n",
        "matrix = np.column_stack((v1, v2, v3))\n",
        "\n",
        "#Resolvemos el sistema lineal para encontrar los coeficientes\n",
        "coefficients = np.linalg.solve(matrix, target)\n",
        "\n",
        "print(\"Coefficients:\", coefficients)\n",
        "\n"
      ]
    }
  ],
  "metadata": {
    "kernelspec": {
      "display_name": "Python 3 (ipykernel)",
      "language": "python",
      "name": "python3"
    },
    "language_info": {
      "codemirror_mode": {
        "name": "ipython",
        "version": 3
      },
      "file_extension": ".py",
      "mimetype": "text/x-python",
      "name": "python",
      "nbconvert_exporter": "python",
      "pygments_lexer": "ipython3",
      "version": "3.9.15"
    },
    "colab": {
      "provenance": [],
      "include_colab_link": true
    }
  },
  "nbformat": 4,
  "nbformat_minor": 5
}