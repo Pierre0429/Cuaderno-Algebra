{
  "nbformat": 4,
  "nbformat_minor": 0,
  "metadata": {
    "colab": {
      "provenance": [],
      "authorship_tag": "ABX9TyNB4Ma9dau4HKc/LXXDK8fy",
      "include_colab_link": true
    },
    "kernelspec": {
      "name": "python3",
      "display_name": "Python 3"
    },
    "language_info": {
      "name": "python"
    }
  },
  "cells": [
    {
      "cell_type": "markdown",
      "metadata": {
        "id": "view-in-github",
        "colab_type": "text"
      },
      "source": [
        "<a href=\"https://colab.research.google.com/github/Pierre0429/Cuaderno-Algebra/blob/main/Matriz_Identidad.ipynb\" target=\"_parent\"><img src=\"https://colab.research.google.com/assets/colab-badge.svg\" alt=\"Open In Colab\"/></a>"
      ]
    },
    {
      "cell_type": "markdown",
      "source": [
        "# Teoria\n",
        "La matriz identidad, denotada comúnmente por \"I\" o \"I_n\", es una matriz cuadrada en la que todos los elementos de la diagonal principal son iguales a 1 y todos los demás elementos son iguales a 0. \n",
        "\n",
        "La matriz identidad cuadrada de tamaño **n** se representa de la siguiente manera:\n",
        "\n",
        "1  0  0  ...  0\n",
        "\n",
        "\n",
        "0  1  0  ...  0\n",
        "\n",
        "\n",
        "0  0  1  ...  0\n",
        "\n",
        "La matriz identidad es cuadrada y su tamaño se indica mediante el subíndice en **\"I_n\"**. Por ejemplo, **\"I_3\"** representa la matriz identidad de tamaño 3x3.\n",
        "\n",
        "La matriz identidad tiene las siguientes propiedades:\n",
        "\n",
        "* **Producto con una matriz:** \n",
        "\n",
        "Si se multiplica cualquier matriz cuadrada **A** por la \n",
        "matriz identidad **I**, el resultado es la misma matriz **A**. Es decir, **AI = IA = A**.\n",
        "\n",
        "* **Propiedad inversa:**\n",
        "\n",
        " La matriz identidad es la única matriz que es su propia inversa. Si se multiplica la matriz identidad por sí misma, el resultado es nuevamente la matriz identidad. Es decir, **I * I = I.**\n",
        "\n",
        "* **Propiedad de escalado:**\n",
        "\n",
        " Si se multiplica cualquier matriz **A** por un escalar **k** y luego se multiplica por la matriz identidad, el resultado es igual a la matriz original escalada por **k**. Es decir, **k(A * I) = (kA) * I = kA.**\n",
        "\n",
        "\n",
        "\n",
        "\n",
        "\n"
      ],
      "metadata": {
        "id": "IPPSeIUFh8U3"
      }
    },
    {
      "cell_type": "code",
      "source": [
        "import numpy as np\n",
        "\n",
        "def matriz_identidad(n):\n",
        "    return np.eye(n)\n",
        "\n",
        "# Ejemplo de uso\n",
        "tamaño = 4\n",
        "\n",
        "matriz_identidad_ejemplo = matriz_identidad(tamaño)\n",
        "print(matriz_identidad_ejemplo)\n",
        "\n"
      ],
      "metadata": {
        "id": "nrh-Uoz5u8Mx"
      },
      "execution_count": null,
      "outputs": []
    }
  ]
}