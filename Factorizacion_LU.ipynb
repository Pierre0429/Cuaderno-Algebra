{
  "nbformat": 4,
  "nbformat_minor": 0,
  "metadata": {
    "colab": {
      "provenance": [],
      "authorship_tag": "ABX9TyMpsZnoU6tskEuB15D5dCtD",
      "include_colab_link": true
    },
    "kernelspec": {
      "name": "python3",
      "display_name": "Python 3"
    },
    "language_info": {
      "name": "python"
    }
  },
  "cells": [
    {
      "cell_type": "markdown",
      "metadata": {
        "id": "view-in-github",
        "colab_type": "text"
      },
      "source": [
        "<a href=\"https://colab.research.google.com/github/Pierre0429/Cuaderno-Algebra/blob/main/Factorizacion_LU.ipynb\" target=\"_parent\"><img src=\"https://colab.research.google.com/assets/colab-badge.svg\" alt=\"Open In Colab\"/></a>"
      ]
    },
    {
      "cell_type": "markdown",
      "source": [
        "# Teoria\n",
        "La factorización LU es una descomposición de una matriz en el producto de dos matrices triangulares: una matriz triangular inferior **(L)** y una matriz triangular superior **(U)**. Esta factorización se puede aplicar a matrices cuadradas y rectangulares.\n",
        "\n",
        "Dada una matriz A de tamaño **m x n**, la factorización LU consiste en encontrar dos matrices L y U tal que **A = L x U** . La matriz L es una matriz triangular inferior con unos en su diagonal principal, y la matriz U es una matriz triangular superior.\n",
        "\n",
        "El proceso para obtener la factorización LU se puede realizar utilizando el método de eliminación de Gauss. En cada paso de la eliminación, se convierte la matriz original en una matriz triangular superior, y los elementos utilizados en los pasos de eliminación se almacenan en la matriz L.\n",
        "\n",
        "Una vez que se ha realizado la factorización LU, se pueden resolver sistemas de ecuaciones lineales de manera más eficiente. Para resolver el sistema **Ax = b,** se realiza lo siguiente:\n",
        "\n",
        "***Resolver el sistema Ly = b utilizando sustitución hacia adelante para encontrar y.***\n",
        "\n",
        "***Resolver el sistema Ux = y utilizando sustitución hacia adelante para encontrar x.***"
      ],
      "metadata": {
        "id": "IPPSeIUFh8U3"
      }
    },
    {
      "cell_type": "code",
      "source": [
        "import numpy as np\n",
        "from scipy.linalg import lu\n",
        "\n",
        "def factorizacion_lu(matriz):\n",
        "    P, L, U = lu(matriz)\n",
        "    return P, L, U\n",
        "\n",
        "# Ejemplo de uso\n",
        "matriz_ejemplo = np.array([[1, 2, 3],\n",
        "                           [4, 5, 6],\n",
        "                           [7, 8, 9]])\n",
        "\n",
        "P, L, U = factorizacion_lu(matriz_ejemplo)\n",
        "\n",
        "print(\"Matriz P:\")\n",
        "print(P)\n",
        "print(\"Matriz L:\")\n",
        "print(L)\n",
        "print(\"Matriz U:\")\n",
        "print(U)\n"
      ],
      "metadata": {
        "id": "CIAtvWaxnZPT"
      },
      "execution_count": null,
      "outputs": []
    }
  ]
}