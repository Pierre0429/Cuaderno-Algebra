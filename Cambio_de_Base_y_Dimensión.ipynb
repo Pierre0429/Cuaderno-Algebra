{
  "nbformat": 4,
  "nbformat_minor": 0,
  "metadata": {
    "colab": {
      "provenance": [],
      "authorship_tag": "ABX9TyMHkO0OlSQx3yuLgDEvkqVV",
      "include_colab_link": true
    },
    "kernelspec": {
      "name": "python3",
      "display_name": "Python 3"
    },
    "language_info": {
      "name": "python"
    }
  },
  "cells": [
    {
      "cell_type": "markdown",
      "metadata": {
        "id": "view-in-github",
        "colab_type": "text"
      },
      "source": [
        "<a href=\"https://colab.research.google.com/github/Pierre0429/Cuaderno-Algebra/blob/main/Cambio_de_Base_y_Dimensi%C3%B3n.ipynb\" target=\"_parent\"><img src=\"https://colab.research.google.com/assets/colab-badge.svg\" alt=\"Open In Colab\"/></a>"
      ]
    },
    {
      "cell_type": "markdown",
      "source": [
        "# Teoria\n",
        "El cambio de base se refiere a la representación de un vector o una matriz en términos de diferentes bases, mientras que la dimensión se refiere al número de vectores linealmente independientes que conforman un espacio vectorial.\n",
        "\n",
        "Cambio de base:\n",
        "El cambio de base implica expresar un vector o una matriz en términos de coordenadas relativas a diferentes bases. Esto se logra mediante la multiplicación de la matriz de cambio de base, que es una matriz que relaciona las coordenadas en una base original con las coordenadas en una base de destino.\n",
        "\n",
        "Dado un vector v y dos bases, B y C, donde C es la base de destino, el cambio de base se puede realizar utilizando la siguiente fórmula:\n",
        "\n",
        "**[v]C = P{CB} * [v]_B**\n",
        "\n",
        "Donde **[v]_B y [v]C** son las coordenadas del vector v en las bases **B** y **C**, respectivamente, y **P{CB}** es la matriz de cambio de base de **B** a **C**.\n",
        "\n",
        "El proceso para obtener la matriz de cambio de base implica representar los vectores de la base de destino en términos de la base original y construir una matriz con estos vectores como columnas.\n",
        "\n",
        "Dimensión:\n",
        "La dimensión de un espacio vectorial es el número máximo de vectores linealmente independientes que pueden formar dicho espacio. Se denota como dim**(V)** donde **V** es el espacio vectorial.\n",
        "\n",
        "La dimensión está relacionada con el rango de una matriz. Si tenemos una matriz A de tamaño m * n, el rango de la matriz es el número máximo de columnas linealmente independientes (o el número máximo de filas linealmente independientes). \n",
        "El rango de **A** es igual a la dimensión del espacio de columnas de **A** y también es igual a la dimensión del espacio de filas de A.\n",
        "\n",
        "Además, el teorema del rango establece que para cualquier matriz **A**, el rango de **A** es igual al rango de su forma escalonada reducida por filas.\n",
        "\n",
        "En resumen, la dimensión de un espacio vectorial está relacionada con el rango de una matriz asociada a ese espacio vectorial."
      ],
      "metadata": {
        "id": "IPPSeIUFh8U3"
      }
    },
    {
      "cell_type": "code",
      "source": [
        "import numpy as np\n",
        "\n",
        "def cambio_de_base(vector, matriz_cambio):\n",
        "    return np.dot(matriz_cambio, vector)\n",
        "\n",
        "def calcular_dimension(matriz):\n",
        "    return np.linalg.matrix_rank(matriz)\n",
        "\n",
        "# Ejemplo de uso para el cambio de base\n",
        "vector = np.array([1, 2, 3])  # Vector en la base original\n",
        "matriz_cambio = np.array([[1, 0, 0],\n",
        "                          [0, 2, 0],\n",
        "                          [0, 0, 3]])  # Matriz de cambio de base\n",
        "\n",
        "vector_nueva_base = cambio_de_base(vector, matriz_cambio)\n",
        "print(\"El vector en la nueva base es:\", vector_nueva_base)\n",
        "\n",
        "# Ejemplo de uso para calcular la dimensión\n",
        "matriz_ejemplo = np.array([[1, 2, 3],\n",
        "                           [4, 5, 6],\n",
        "                           [7, 8, 9]])\n",
        "\n",
        "dimension = calcular_dimension(matriz_ejemplo)\n",
        "print(\"La dimensión del espacio vectorial es:\", dimension)\n"
      ],
      "metadata": {
        "id": "nrh-Uoz5u8Mx"
      },
      "execution_count": null,
      "outputs": []
    }
  ]
}