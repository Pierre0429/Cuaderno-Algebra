{
  "nbformat": 4,
  "nbformat_minor": 0,
  "metadata": {
    "colab": {
      "provenance": [],
      "authorship_tag": "ABX9TyOy5WwKbSA0qiwOGtl1US80",
      "include_colab_link": true
    },
    "kernelspec": {
      "name": "python3",
      "display_name": "Python 3"
    },
    "language_info": {
      "name": "python"
    }
  },
  "cells": [
    {
      "cell_type": "markdown",
      "metadata": {
        "id": "view-in-github",
        "colab_type": "text"
      },
      "source": [
        "<a href=\"https://colab.research.google.com/github/Pierre0429/Cuaderno-Algebra/blob/main/Matriz_Nula.ipynb\" target=\"_parent\"><img src=\"https://colab.research.google.com/assets/colab-badge.svg\" alt=\"Open In Colab\"/></a>"
      ]
    },
    {
      "cell_type": "markdown",
      "source": [
        "# Teoria\n",
        "Una matriz nula, también conocida como matriz cero, es una matriz en la que todos sus elementos son cero. Es una matriz importante en álgebra lineal y se denota comúnmente por \"0\" o \"O\" subrayada.\n",
        "\n",
        "La matriz nula se representa de la siguiente manera:\n",
        "\n",
        "0  0  0  \n",
        "\n",
        "0  0  0  \n",
        "\n",
        "0  0  0  \n",
        "\n",
        "\n",
        "La matriz nula tiene propiedades interesantes en operaciones matriciales, como la adición y la multiplicación por un escalar. Algunas de estas propiedades son:\n",
        "\n",
        "**Adición:** La suma de la matriz nula con cualquier matriz A es simplemente la matriz **A**. \n",
        "\n",
        "Es decir, **A + 0 = A.**\n",
        "\n",
        "**Multiplicación por un escalar:** El producto de la matriz nula por cualquier escalar es nuevamente la matriz nula. Es decir, **k * 0 = 0**, donde **\"k\"** es un escalar.\n",
        "\n",
        "**Producto matricial:** El producto matricial de la matriz nula con cualquier otra matriz resultará en una matriz nula.\n"
      ],
      "metadata": {
        "id": "IPPSeIUFh8U3"
      }
    },
    {
      "cell_type": "code",
      "source": [
        "import numpy as np\n",
        "\n",
        "def matriz_nula(filas, columnas):\n",
        "    return np.zeros((filas, columnas))\n",
        "\n",
        "# Ejemplo de uso\n",
        "filas = 3\n",
        "columnas = 4\n",
        "\n",
        "matriz_nula_ejemplo = matriz_nula(filas, columnas)\n",
        "print(matriz_nula_ejemplo)\n",
        "\n",
        "\n"
      ],
      "metadata": {
        "id": "nrh-Uoz5u8Mx"
      },
      "execution_count": null,
      "outputs": []
    }
  ]
}