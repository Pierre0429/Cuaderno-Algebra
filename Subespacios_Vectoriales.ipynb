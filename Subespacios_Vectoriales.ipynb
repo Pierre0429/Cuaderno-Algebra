{
  "nbformat": 4,
  "nbformat_minor": 0,
  "metadata": {
    "colab": {
      "provenance": [],
      "authorship_tag": "ABX9TyN2SQL33p0yYdxUc5Z2Hr1n",
      "include_colab_link": true
    },
    "kernelspec": {
      "name": "python3",
      "display_name": "Python 3"
    },
    "language_info": {
      "name": "python"
    }
  },
  "cells": [
    {
      "cell_type": "markdown",
      "metadata": {
        "id": "view-in-github",
        "colab_type": "text"
      },
      "source": [
        "<a href=\"https://colab.research.google.com/github/Pierre0429/Cuaderno-Algebra/blob/main/Subespacios_Vectoriales.ipynb\" target=\"_parent\"><img src=\"https://colab.research.google.com/assets/colab-badge.svg\" alt=\"Open In Colab\"/></a>"
      ]
    },
    {
      "cell_type": "markdown",
      "source": [
        "# Teoria\n",
        "Un subespacio vectorial es un conjunto de vectores que cumple con ciertas propiedades y que forma un espacio vectorial por sí mismo. Es decir, un subespacio vectorial es un conjunto de vectores que está cerrado bajo las operaciones de suma de vectores y multiplicación por escalares.\n",
        "\n",
        "Para que un conjunto de vectores sea un subespacio vectorial, debe cumplir las siguientes tres condiciones:\n",
        "\n",
        "+ **Contiene el vector cero:** El subespacio vectorial debe contener al vector cero, es decir, al vector nulo.\n",
        "\n",
        "+ **Cerrado bajo la suma de vectores:** Si dos vectores pertenecen al subespacio vectorial, entonces su suma también debe pertenecer al subespacio vectorial.\n",
        "\n",
        "+ **Cerrado bajo la multiplicación por escalares:** Si un vector pertenece al subespacio vectorial, entonces su multiplicación por cualquier escalar también debe pertenecer al subespacio vectorial.\n",
        "\n",
        "\n",
        "\n",
        "\n"
      ],
      "metadata": {
        "id": "IPPSeIUFh8U3"
      }
    },
    {
      "cell_type": "code",
      "source": [
        "import numpy as np\n",
        "\n",
        "def es_subespacio_vectorial(vectores):\n",
        "    if len(vectores) == 0:\n",
        "        return False\n",
        "\n",
        "    dimension = len(vectores[0])\n",
        "\n",
        "    for vector in vectores:\n",
        "        if len(vector) != dimension:\n",
        "            return False\n",
        "\n",
        "    vector_cero = np.zeros(dimension)\n",
        "    if vector_cero not in vectores:\n",
        "        return False\n",
        "\n",
        "    for escalar in np.arange(-10, 10):\n",
        "        for vector in vectores:\n",
        "            if escalar * vector not in vectores:\n",
        "                return False\n",
        "\n",
        "    return True\n",
        "\n",
        "# Ejemplo de uso\n",
        "vectores_ejemplo = [np.array([1, 2, 3]),\n",
        "                    np.array([4, 5, 6]),\n",
        "                    np.array([-2, -4, -6])]\n",
        "\n",
        "if es_subespacio_vectorial(vectores_ejemplo):\n",
        "    print(\"El conjunto de vectores es un subespacio vectorial.\")\n",
        "else:\n",
        "    print(\"El conjunto de vectores no es un subespacio vectorial.\")\n"
      ],
      "metadata": {
        "id": "nrh-Uoz5u8Mx"
      },
      "execution_count": null,
      "outputs": []
    }
  ]
}