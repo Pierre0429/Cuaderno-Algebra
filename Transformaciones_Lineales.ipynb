{
  "nbformat": 4,
  "nbformat_minor": 0,
  "metadata": {
    "colab": {
      "provenance": [],
      "authorship_tag": "ABX9TyPHFGGXdGgmcd7iqFooCRz1",
      "include_colab_link": true
    },
    "kernelspec": {
      "name": "python3",
      "display_name": "Python 3"
    },
    "language_info": {
      "name": "python"
    }
  },
  "cells": [
    {
      "cell_type": "markdown",
      "metadata": {
        "id": "view-in-github",
        "colab_type": "text"
      },
      "source": [
        "<a href=\"https://colab.research.google.com/github/Pierre0429/Cuaderno-Algebra/blob/main/Transformaciones_Lineales.ipynb\" target=\"_parent\"><img src=\"https://colab.research.google.com/assets/colab-badge.svg\" alt=\"Open In Colab\"/></a>"
      ]
    },
    {
      "cell_type": "markdown",
      "source": [
        "# Teoria\n",
        "Formalmente, una transformación lineal **T** de un espacio vectorial **V** a un espacio vectorial **W** se define como una función que satisface las siguientes propiedades:\n",
        "\n",
        "**Preservación de la adición:** \n",
        "\n",
        "Para cualquier par de vectores **u** y **v** en **V**, la transformación lineal de la suma de los vectores es igual a la suma de las transformaciones lineales de los vectores:\n",
        "\n",
        "                                         T(u + v) = T(u) + T(v)\n",
        "\n",
        "Preservación de la multiplicación por escalar: Para cualquier vector **u** en **V** y cualquier escalar **c**, la transformación lineal del producto escalar de **u** por **c** es igual al producto escalar de la transformación lineal de **u** por **c**:\n",
        "\n",
        "\n",
        "                                             T(cu) = cT(u)\n",
        "\n",
        "Estas propiedades aseguran que las operaciones de adición y multiplicación por escalar se preservan a través de la transformación lineal, lo que significa que la estructura lineal de los vectores se mantiene.\n",
        "\n",
        "Las transformaciones lineales se pueden representar mediante una matriz. Si **V** y **W** son espacios vectoriales de dimensión finita y se eligen bases para ambos espacios, entonces cualquier transformación lineal se puede representar mediante una matriz. La matriz de una transformación lineal indica cómo los vectores de entrada se transforman en vectores de salida."
      ],
      "metadata": {
        "id": "IPPSeIUFh8U3"
      }
    },
    {
      "cell_type": "code",
      "source": [
        "iimport numpy as np\n",
        "\n",
        "def transformacion_lineal(matriz, vector):\n",
        "    return np.dot(matriz, vector)\n",
        "\n",
        "# Ejemplo de uso\n",
        "matriz_transformacion = np.array([[2, 0],\n",
        "                                 [0, 3]])  # Matriz de la transformación lineal\n",
        "\n",
        "vector_entrada = np.array([1, 1])  # Vector de entrada\n",
        "\n",
        "vector_salida = transformacion_lineal(matriz_transformacion, vector_entrada)\n",
        "print(\"El vector transformado es:\", vector_salida)\n",
        "\n"
      ],
      "metadata": {
        "id": "nrh-Uoz5u8Mx"
      },
      "execution_count": null,
      "outputs": []
    }
  ]
}