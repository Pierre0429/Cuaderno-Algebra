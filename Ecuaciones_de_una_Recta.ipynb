{
  "nbformat": 4,
  "nbformat_minor": 0,
  "metadata": {
    "colab": {
      "provenance": [],
      "authorship_tag": "ABX9TyMsMS43dMZ6uHSDOTN20nYG",
      "include_colab_link": true
    },
    "kernelspec": {
      "name": "python3",
      "display_name": "Python 3"
    },
    "language_info": {
      "name": "python"
    }
  },
  "cells": [
    {
      "cell_type": "markdown",
      "metadata": {
        "id": "view-in-github",
        "colab_type": "text"
      },
      "source": [
        "<a href=\"https://colab.research.google.com/github/Pierre0429/Cuaderno-Algebra/blob/main/Ecuaciones_de_una_Recta.ipynb\" target=\"_parent\"><img src=\"https://colab.research.google.com/assets/colab-badge.svg\" alt=\"Open In Colab\"/></a>"
      ]
    },
    {
      "cell_type": "markdown",
      "source": [
        "# Teoria\n",
        "Las cónicas, también conocidas como secciones cónicas, son curvas en el plano que se obtienen al intersectar un plano con un cono de doble hoja. Las cónicas más comunes son el círculo, la elipse, la parábola y la hipérbola. Cada una de ellas tiene propiedades y ecuaciones características.\n",
        "\n",
        "+ **Círculo:**\n",
        "\n",
        "**Definición:** El círculo es una cónica en la que todos los puntos tienen la misma distancia (llamada radio) desde un punto fijo llamado centro.\n",
        "\n",
        "**Ecuación:** La ecuación general de un círculo con centro (h, k) y radio r es: **(x - h)^2 + (y - k)^2 = r^2.**\n",
        "\n",
        "+ **Elipse:**\n",
        "\n",
        "**Definición:** Una elipse es una cónica en la que la suma de las distancias de cada punto en la curva a dos puntos fijos (llamados focos) es constante.\n",
        "\n",
        "**Ecuación:** La ecuación general de una elipse con centro (h, k), semieje mayor a y semieje menor b es: **((x - h)^2 / a^2) + ((y - k)^2 / b^2) = 1.**\n",
        "\n",
        "+ **Parábola:**\n",
        "\n",
        "**Definición:** Una parábola es una cónica en la que todos los puntos tienen la misma distancia desde un punto fijo llamado foco y una línea fija llamada directriz.\n",
        "\n",
        "**Ecuación:** La ec. general de una parábola con vértice (h, k) y parámetro p es: **(y - k)^2 = 4p(x - h).**\n",
        "\n",
        "+ **Hipérbola:**\n",
        "\n",
        "**Definición:** Una hipérbola es una cónica en la que la diferencia de las distancias de cada punto en la curva a dos puntos fijos (llamados focos) es constante.\n",
        "\n",
        "**Ecuación:** La ecuación general de una hipérbola con centro (h, k), semieje mayor a, semieje menor b y excentricidad e es: **((x - h)^2 / a^2) - ((y - k)^2 / b^2) = 1.**\n",
        "\n",
        "Cada una de estas conicas tiene características y propiedades específicas. La ecuación general proporcionada es solo una forma de representarlas, pero pueden existir otras formas según el contexto o la posición relativa de los elementos involucrados.\n",
        "\n",
        "\n"
      ],
      "metadata": {
        "id": "IPPSeIUFh8U3"
      }
    },
    {
      "cell_type": "markdown",
      "source": [
        "#Circulo"
      ],
      "metadata": {
        "id": "gncLVHEnEicF"
      }
    },
    {
      "cell_type": "code",
      "source": [
        "import matplotlib.pyplot as plt\n",
        "import numpy as np\n",
        "\n",
        "def dibujar_circulo(x_centro, y_centro, radio):\n",
        "    # Generar puntos en el círculo\n",
        "    theta = np.linspace(0, 2 * np.pi, 100)\n",
        "    x = x_centro + radio * np.cos(theta)\n",
        "    y = y_centro + radio * np.sin(theta)\n",
        "\n",
        "    # Crear figura y ejes\n",
        "    fig, ax = plt.subplots()\n",
        "\n",
        "    # Dibujar círculo\n",
        "    ax.plot(x, y)\n",
        "\n",
        "    # Ajustar el aspecto del gráfico\n",
        "    ax.axis('equal')  # Para que los ejes tengan la misma escala\n",
        "    ax.grid(True)  # Agregar una cuadrícula de fondo\n",
        "\n",
        "    # Mostrar el gráfico\n",
        "    plt.show()\n",
        "\n",
        "# Ejemplo de uso\n",
        "x_centro = 0\n",
        "y_centro = 0\n",
        "radio = 5\n",
        "\n",
        "dibujar_circulo(x_centro, y_centro, radio)\n"
      ],
      "metadata": {
        "id": "TQeuBPrQElNF"
      },
      "execution_count": null,
      "outputs": []
    },
    {
      "cell_type": "markdown",
      "source": [
        "#Elipse"
      ],
      "metadata": {
        "id": "jXGQX44TEnOq"
      }
    },
    {
      "cell_type": "code",
      "source": [
        "import matplotlib.pyplot as plt\n",
        "import numpy as np\n",
        "\n",
        "def dibujar_elipse(x_centro, y_centro, a, b):\n",
        "    # Generar puntos en la elipse\n",
        "    theta = np.linspace(0, 2 * np.pi, 100)\n",
        "    x = x_centro + a * np.cos(theta)\n",
        "    y = y_centro + b * np.sin(theta)\n",
        "\n",
        "    # Crear figura y ejes\n",
        "    fig, ax = plt.subplots()\n",
        "\n",
        "    # Dibujar elipse\n",
        "    ax.plot(x, y)\n",
        "\n",
        "    # Ajustar el aspecto del gráfico\n",
        "    ax.axis('equal')  # Para que los ejes tengan la misma escala\n",
        "    ax.grid(True)  # Agregar una cuadrícula de fondo\n",
        "\n",
        "    # Mostrar el gráfico\n",
        "    plt.show()\n",
        "\n",
        "# Ejemplo de uso\n",
        "x_centro = 0\n",
        "y_centro = 0\n",
        "a = 5\n",
        "b = 3\n",
        "\n",
        "dibujar_elipse(x_centro, y_centro, a, b)\n"
      ],
      "metadata": {
        "id": "6a-1mhLoFAaz"
      },
      "execution_count": null,
      "outputs": []
    },
    {
      "cell_type": "markdown",
      "source": [
        "#Parabola"
      ],
      "metadata": {
        "id": "Sy1O7mgiFBON"
      }
    },
    {
      "cell_type": "code",
      "source": [
        "import matplotlib.pyplot as plt\n",
        "import numpy as np\n",
        "\n",
        "def dibujar_parabola(a, h, k):\n",
        "    # Generar puntos en la parábola\n",
        "    x = np.linspace(h - 10, h + 10, 400)\n",
        "    y = a * (x - h) ** 2 + k\n",
        "\n",
        "    # Crear figura y ejes\n",
        "    fig, ax = plt.subplots()\n",
        "\n",
        "    # Dibujar parábola\n",
        "    ax.plot(x, y)\n",
        "\n",
        "    # Ajustar el aspecto del gráfico\n",
        "    ax.grid(True)  # Agregar una cuadrícula de fondo\n",
        "\n",
        "    # Mostrar el gráfico\n",
        "    plt.show()\n",
        "\n",
        "# Ejemplo de uso\n",
        "a = 1\n",
        "h = 0\n",
        "k = 0\n",
        "\n",
        "dibujar_parabola(a, h, k)\n"
      ],
      "metadata": {
        "id": "arujAWzwFD7W"
      },
      "execution_count": null,
      "outputs": []
    },
    {
      "cell_type": "markdown",
      "source": [
        "#Hiperbola"
      ],
      "metadata": {
        "id": "ykLqsV0RFUlM"
      }
    },
    {
      "cell_type": "code",
      "source": [
        "import matplotlib.pyplot as plt\n",
        "import numpy as np\n",
        "\n",
        "def dibujar_hiperbola(a, b, h, k):\n",
        "    # Generar puntos en la hipérbola\n",
        "    x = np.linspace(h - 10, h + 10, 400)\n",
        "    y_pos = np.sqrt((x - h) ** 2 * (b ** 2 / a ** 2) + k ** 2)\n",
        "    y_neg = -np.sqrt((x - h) ** 2 * (b ** 2 / a ** 2) + k ** 2)\n",
        "\n",
        "    # Crear figura y ejes\n",
        "    fig, ax = plt.subplots()\n",
        "\n",
        "    # Dibujar hipérbola\n",
        "    ax.plot(x, y_pos, label='y')\n",
        "    ax.plot(x, y_neg, label='-y')\n",
        "\n",
        "    # Ajustar el aspecto del gráfico\n",
        "    ax.grid(True)  # Agregar una cuadrícula de fondo\n",
        "    ax.axhline(y=0, color='black', linewidth=0.5)  # Agregar línea horizontal en y=0\n",
        "    ax.axvline(x=0, color='black', linewidth=0.5)  # Agregar línea vertical en x=0\n",
        "    ax.legend()  # Mostrar leyenda\n",
        "\n",
        "    # Mostrar el gráfico\n",
        "    plt.show()\n",
        "\n",
        "# Ejemplo de uso\n",
        "a = 3\n",
        "b = 2\n",
        "h = 0\n",
        "k = 0\n",
        "\n",
        "dibujar_hiperbola(a, b, h, k)\n"
      ],
      "metadata": {
        "id": "oa2X7Y7hFjJu"
      },
      "execution_count": null,
      "outputs": []
    }
  ]
}