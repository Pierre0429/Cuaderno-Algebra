{
  "nbformat": 4,
  "nbformat_minor": 0,
  "metadata": {
    "colab": {
      "provenance": [],
      "authorship_tag": "ABX9TyNkHD1OupOGOMOoIwE6CC0T",
      "include_colab_link": true
    },
    "kernelspec": {
      "name": "python3",
      "display_name": "Python 3"
    },
    "language_info": {
      "name": "python"
    }
  },
  "cells": [
    {
      "cell_type": "markdown",
      "metadata": {
        "id": "view-in-github",
        "colab_type": "text"
      },
      "source": [
        "<a href=\"https://colab.research.google.com/github/Pierre0429/Cuaderno-Algebra/blob/main/Ecuaciones_de_una_Recta.ipynb\" target=\"_parent\"><img src=\"https://colab.research.google.com/assets/colab-badge.svg\" alt=\"Open In Colab\"/></a>"
      ]
    },
    {
      "cell_type": "markdown",
      "source": [
        "# Teoria\n",
        "una recta se define como una sucesión infinita de puntos que se extiende en una misma dirección y no tiene curvatura. En el plano cartesiano, una recta se puede describir mediante una ecuación lineal de la forma:\n",
        "\n",
        "**y = mx + b**\n",
        "\n",
        "Donde:\n",
        "\n",
        "**y es la coordenada en el eje y**\n",
        "\n",
        "**x es la coordenada en el eje x**\n",
        "\n",
        "**m es la pendiente de la recta**\n",
        "\n",
        "**b es el término independiente o ordenada al origen.**\n",
        "\n",
        "La pendiente **(m)** representa la inclinación de la recta y se calcula como la diferencia entre las coordenadas y dividida por la diferencia entre las coordenadas **x** de dos puntos distintos en la recta.\n",
        "\n",
        "El término independiente **(b)** es el valor de **y** cuando **x** es igual a cero, es decir, la intersección de la recta con el eje **y**.\n",
        "\n",
        "El uso de la ecuación de la recta permite describir la relación entre las coordenadas **x** e **y** de cualquier punto en la recta.\n",
        "\n",
        "\n",
        "\n"
      ],
      "metadata": {
        "id": "IPPSeIUFh8U3"
      }
    },
    {
      "cell_type": "code",
      "source": [
        "def ecuacion_recta(punto1, punto2):\n",
        "    x1, y1 = punto1\n",
        "    x2, y2 = punto2\n",
        "\n",
        "    # Calcular la pendiente\n",
        "    m = (y2 - y1) / (x2 - x1)\n",
        "\n",
        "    # Calcular el término independiente\n",
        "    b = y1 - m * x1\n",
        "\n",
        "    # Devolver la ecuación de la recta\n",
        "    return f\"y = {m}x + {b}\"\n",
        "\n",
        "# Ejemplo de uso\n",
        "punto1 = (2, 3)\n",
        "punto2 = (5, 7)\n",
        "\n",
        "recta = ecuacion_recta(punto1, punto2)\n",
        "print(recta)\n",
        "\n"
      ],
      "metadata": {
        "id": "nrh-Uoz5u8Mx"
      },
      "execution_count": null,
      "outputs": []
    }
  ]
}