{
  "nbformat": 4,
  "nbformat_minor": 0,
  "metadata": {
    "colab": {
      "provenance": [],
      "authorship_tag": "ABX9TyPHYYReueXFr7DyvVJwsE6U",
      "include_colab_link": true
    },
    "kernelspec": {
      "name": "python3",
      "display_name": "Python 3"
    },
    "language_info": {
      "name": "python"
    }
  },
  "cells": [
    {
      "cell_type": "markdown",
      "metadata": {
        "id": "view-in-github",
        "colab_type": "text"
      },
      "source": [
        "<a href=\"https://colab.research.google.com/github/Pierre0429/Cuaderno-Algebra/blob/main/Bases_Ortonormales_y_Ortogonales.ipynb\" target=\"_parent\"><img src=\"https://colab.research.google.com/assets/colab-badge.svg\" alt=\"Open In Colab\"/></a>"
      ]
    },
    {
      "cell_type": "markdown",
      "source": [
        "# Teoria\n",
        "**Bases ortonormales:**\n",
        "\n",
        "Una base ortonormal es una base en la que los vectores son ortogonales entre sí y tienen una norma de longitud igual a 1. Esto significa que el producto interno (o producto escalar) entre cualquier par de vectores de la base es cero y la norma de cada vector es 1.\n",
        "\n",
        "Formalmente, una base **{v1, v2, ..., vn}** se considera ortonormal si se cumplen las siguientes condiciones:\n",
        "\n",
        "Los vectores son mutuamente ortogonales: **v_i · v_j = 0** para todo **i ≠ j**, donde · denota el producto interno.\n",
        "\n",
        "Los vectores tienen norma 1: **||v_i|| = 1** para todo **i**, donde || ||  denota la norma euclidiana.\n",
        "\n",
        "Las bases ortonormales son muy útiles en el cálculo de proyecciones, descomposición de vectores y resolución de sistemas lineales.\n",
        "\n",
        "**Bases ortogonales:**\n",
        "\n",
        "Una base ortogonal es una base en la que los vectores son ortogonales entre sí, pero no necesariamente tienen una norma de longitud igual a 1. Esto significa que el producto interno entre cualquier par de vectores de la base es cero, pero la norma de cada vector puede ser cualquier valor.\n",
        "\n",
        "Formalmente, una base **{v1, v2, ..., vn}** se considera ortogonal si se cumple la siguiente condición:\n",
        "\n",
        "Los vectores son mutuamente ortogonales: **v_i · v_j = 0** para todo **i ≠ j**.\n",
        "A diferencia de las bases ortonormales, las bases ortogonales no tienen la restricción de tener una norma de longitud igual a 1."
      ],
      "metadata": {
        "id": "IPPSeIUFh8U3"
      }
    },
    {
      "cell_type": "code",
      "source": [
        "import numpy as np\n",
        "\n",
        "def verificar_ortonormal(base):\n",
        "    n = len(base)\n",
        "    for i in range(n):\n",
        "        for j in range(i+1, n):\n",
        "            dot_product = np.dot(base[i], base[j])\n",
        "            if abs(dot_product) > 1e-10:\n",
        "                return False\n",
        "        norm = np.linalg.norm(base[i])\n",
        "        if abs(norm - 1) > 1e-10:\n",
        "            return False\n",
        "    return True\n",
        "\n",
        "def verificar_ortogonal(base):\n",
        "    n = len(base)\n",
        "    for i in range(n):\n",
        "        for j in range(i+1, n):\n",
        "            dot_product = np.dot(base[i], base[j])\n",
        "            if abs(dot_product) > 1e-10:\n",
        "                return False\n",
        "    return True\n",
        "\n",
        "# Ejemplo de uso\n",
        "base_ortonormal = np.array([[1, 0, 0],\n",
        "                            [0, 1, 0],\n",
        "                            [0, 0, 1]])\n",
        "\n",
        "base_ortogonal = np.array([[1, 0, 0],\n",
        "                           [0, 1, 0],\n",
        "                           [0, 0, 2]])\n",
        "\n",
        "es_ortonormal = verificar_ortonormal(base_ortonormal)\n",
        "es_ortogonal = verificar_ortogonal(base_ortogonal)\n",
        "\n",
        "print(\"La base ortonormal es:\", es_ortonormal)\n",
        "print(\"La base ortogonal es:\", es_ortogonal)\n",
        "\n"
      ],
      "metadata": {
        "id": "nrh-Uoz5u8Mx"
      },
      "execution_count": null,
      "outputs": []
    }
  ]
}